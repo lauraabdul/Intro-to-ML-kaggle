{
 "cells": [
  {
   "cell_type": "markdown",
   "id": "523598a7",
   "metadata": {
    "papermill": {
     "duration": 0.005346,
     "end_time": "2022-06-29T11:45:05.518687",
     "exception": false,
     "start_time": "2022-06-29T11:45:05.513341",
     "status": "completed"
    },
    "tags": []
   },
   "source": [
    "**This notebook is an exercise in the [Introduction to Machine Learning](https://www.kaggle.com/learn/intro-to-machine-learning) course.  You can reference the tutorial at [this link](https://www.kaggle.com/dansbecker/your-first-machine-learning-model).**\n",
    "\n",
    "---\n"
   ]
  },
  {
   "cell_type": "markdown",
   "id": "f62ad3ce",
   "metadata": {
    "papermill": {
     "duration": 0.003911,
     "end_time": "2022-06-29T11:45:05.527016",
     "exception": false,
     "start_time": "2022-06-29T11:45:05.523105",
     "status": "completed"
    },
    "tags": []
   },
   "source": [
    "## Recap\n",
    "So far, you have loaded your data and reviewed it with the following code. Run this cell to set up your coding environment where the previous step left off."
   ]
  },
  {
   "cell_type": "code",
   "execution_count": 1,
   "id": "25b30daf",
   "metadata": {
    "execution": {
     "iopub.execute_input": "2022-06-29T11:45:05.537822Z",
     "iopub.status.busy": "2022-06-29T11:45:05.537100Z",
     "iopub.status.idle": "2022-06-29T11:45:06.864460Z",
     "shell.execute_reply": "2022-06-29T11:45:06.862835Z"
    },
    "papermill": {
     "duration": 1.335928,
     "end_time": "2022-06-29T11:45:06.867259",
     "exception": false,
     "start_time": "2022-06-29T11:45:05.531331",
     "status": "completed"
    },
    "tags": []
   },
   "outputs": [
    {
     "name": "stdout",
     "output_type": "stream",
     "text": [
      "Setup Complete\n"
     ]
    }
   ],
   "source": [
    "# Code you have previously used to load data\n",
    "import pandas as pd\n",
    "\n",
    "# Path of the file to read\n",
    "iowa_file_path = '../input/home-data-for-ml-course/train.csv'\n",
    "\n",
    "home_data = pd.read_csv(iowa_file_path)\n",
    "\n",
    "# Set up code checking\n",
    "from learntools.core import binder\n",
    "binder.bind(globals())\n",
    "from learntools.machine_learning.ex3 import *\n",
    "\n",
    "print(\"Setup Complete\")"
   ]
  },
  {
   "cell_type": "markdown",
   "id": "5befb046",
   "metadata": {
    "papermill": {
     "duration": 0.004102,
     "end_time": "2022-06-29T11:45:06.875870",
     "exception": false,
     "start_time": "2022-06-29T11:45:06.871768",
     "status": "completed"
    },
    "tags": []
   },
   "source": [
    "# Exercises\n",
    "\n",
    "## Step 1: Specify Prediction Target\n",
    "Select the target variable, which corresponds to the sales price. Save this to a new variable called `y`. You'll need to print a list of the columns to find the name of the column you need.\n"
   ]
  },
  {
   "cell_type": "code",
   "execution_count": 2,
   "id": "d7eaa1ef",
   "metadata": {
    "execution": {
     "iopub.execute_input": "2022-06-29T11:45:06.886298Z",
     "iopub.status.busy": "2022-06-29T11:45:06.885650Z",
     "iopub.status.idle": "2022-06-29T11:45:06.893929Z",
     "shell.execute_reply": "2022-06-29T11:45:06.893093Z"
    },
    "papermill": {
     "duration": 0.015553,
     "end_time": "2022-06-29T11:45:06.895706",
     "exception": false,
     "start_time": "2022-06-29T11:45:06.880153",
     "status": "completed"
    },
    "tags": []
   },
   "outputs": [
    {
     "data": {
      "text/plain": [
       "Index(['Id', 'MSSubClass', 'MSZoning', 'LotFrontage', 'LotArea', 'Street',\n",
       "       'Alley', 'LotShape', 'LandContour', 'Utilities', 'LotConfig',\n",
       "       'LandSlope', 'Neighborhood', 'Condition1', 'Condition2', 'BldgType',\n",
       "       'HouseStyle', 'OverallQual', 'OverallCond', 'YearBuilt', 'YearRemodAdd',\n",
       "       'RoofStyle', 'RoofMatl', 'Exterior1st', 'Exterior2nd', 'MasVnrType',\n",
       "       'MasVnrArea', 'ExterQual', 'ExterCond', 'Foundation', 'BsmtQual',\n",
       "       'BsmtCond', 'BsmtExposure', 'BsmtFinType1', 'BsmtFinSF1',\n",
       "       'BsmtFinType2', 'BsmtFinSF2', 'BsmtUnfSF', 'TotalBsmtSF', 'Heating',\n",
       "       'HeatingQC', 'CentralAir', 'Electrical', '1stFlrSF', '2ndFlrSF',\n",
       "       'LowQualFinSF', 'GrLivArea', 'BsmtFullBath', 'BsmtHalfBath', 'FullBath',\n",
       "       'HalfBath', 'BedroomAbvGr', 'KitchenAbvGr', 'KitchenQual',\n",
       "       'TotRmsAbvGrd', 'Functional', 'Fireplaces', 'FireplaceQu', 'GarageType',\n",
       "       'GarageYrBlt', 'GarageFinish', 'GarageCars', 'GarageArea', 'GarageQual',\n",
       "       'GarageCond', 'PavedDrive', 'WoodDeckSF', 'OpenPorchSF',\n",
       "       'EnclosedPorch', '3SsnPorch', 'ScreenPorch', 'PoolArea', 'PoolQC',\n",
       "       'Fence', 'MiscFeature', 'MiscVal', 'MoSold', 'YrSold', 'SaleType',\n",
       "       'SaleCondition', 'SalePrice'],\n",
       "      dtype='object')"
      ]
     },
     "execution_count": 2,
     "metadata": {},
     "output_type": "execute_result"
    }
   ],
   "source": [
    "# print the list of columns in the dataset to find the name of the prediction target\n",
    "home_data.columns"
   ]
  },
  {
   "cell_type": "code",
   "execution_count": 3,
   "id": "8b6d367f",
   "metadata": {
    "execution": {
     "iopub.execute_input": "2022-06-29T11:45:06.906739Z",
     "iopub.status.busy": "2022-06-29T11:45:06.905746Z",
     "iopub.status.idle": "2022-06-29T11:45:06.919385Z",
     "shell.execute_reply": "2022-06-29T11:45:06.918251Z"
    },
    "papermill": {
     "duration": 0.02109,
     "end_time": "2022-06-29T11:45:06.921317",
     "exception": false,
     "start_time": "2022-06-29T11:45:06.900227",
     "status": "completed"
    },
    "tags": []
   },
   "outputs": [
    {
     "data": {
      "application/javascript": [
       "parent.postMessage({\"jupyterEvent\": \"custom.exercise_interaction\", \"data\": {\"outcomeType\": 1, \"valueTowardsCompletion\": 0.25, \"interactionType\": 1, \"questionType\": 2, \"questionId\": \"1_SetTarget\", \"learnToolsVersion\": \"0.3.4\", \"failureMessage\": \"\", \"exceptionClass\": \"\", \"trace\": \"\"}}, \"*\")"
      ],
      "text/plain": [
       "<IPython.core.display.Javascript object>"
      ]
     },
     "metadata": {},
     "output_type": "display_data"
    },
    {
     "data": {
      "text/markdown": [
       "<span style=\"color:#33cc33\">Correct</span>"
      ],
      "text/plain": [
       "Correct"
      ]
     },
     "metadata": {},
     "output_type": "display_data"
    }
   ],
   "source": [
    "y = home_data.SalePrice\n",
    "\n",
    "# Check your answer\n",
    "step_1.check()"
   ]
  },
  {
   "cell_type": "code",
   "execution_count": 4,
   "id": "8398d0d9",
   "metadata": {
    "execution": {
     "iopub.execute_input": "2022-06-29T11:45:06.932920Z",
     "iopub.status.busy": "2022-06-29T11:45:06.932176Z",
     "iopub.status.idle": "2022-06-29T11:45:06.936035Z",
     "shell.execute_reply": "2022-06-29T11:45:06.935178Z"
    },
    "papermill": {
     "duration": 0.01217,
     "end_time": "2022-06-29T11:45:06.938152",
     "exception": false,
     "start_time": "2022-06-29T11:45:06.925982",
     "status": "completed"
    },
    "tags": []
   },
   "outputs": [],
   "source": [
    "# The lines below will show you a hint or the solution.\n",
    "#step_1.hint() \n",
    "#step_1.solution()"
   ]
  },
  {
   "cell_type": "markdown",
   "id": "65edd24a",
   "metadata": {
    "papermill": {
     "duration": 0.00442,
     "end_time": "2022-06-29T11:45:06.947390",
     "exception": false,
     "start_time": "2022-06-29T11:45:06.942970",
     "status": "completed"
    },
    "tags": []
   },
   "source": [
    "## Step 2: Create X\n",
    "Now you will create a DataFrame called `X` holding the predictive features.\n",
    "\n",
    "Since you want only some columns from the original data, you'll first create a list with the names of the columns you want in `X`.\n",
    "\n",
    "You'll use just the following columns in the list (you can copy and paste the whole list to save some typing, though you'll still need to add quotes):\n",
    "  * LotArea\n",
    "  * YearBuilt\n",
    "  * 1stFlrSF\n",
    "  * 2ndFlrSF\n",
    "  * FullBath\n",
    "  * BedroomAbvGr\n",
    "  * TotRmsAbvGrd\n",
    "\n",
    "After you've created that list of features, use it to create the DataFrame that you'll use to fit the model."
   ]
  },
  {
   "cell_type": "code",
   "execution_count": 5,
   "id": "2e39635f",
   "metadata": {
    "execution": {
     "iopub.execute_input": "2022-06-29T11:45:06.958825Z",
     "iopub.status.busy": "2022-06-29T11:45:06.958117Z",
     "iopub.status.idle": "2022-06-29T11:45:06.971443Z",
     "shell.execute_reply": "2022-06-29T11:45:06.970655Z"
    },
    "papermill": {
     "duration": 0.021077,
     "end_time": "2022-06-29T11:45:06.973241",
     "exception": false,
     "start_time": "2022-06-29T11:45:06.952164",
     "status": "completed"
    },
    "tags": []
   },
   "outputs": [
    {
     "data": {
      "application/javascript": [
       "parent.postMessage({\"jupyterEvent\": \"custom.exercise_interaction\", \"data\": {\"outcomeType\": 1, \"valueTowardsCompletion\": 0.25, \"interactionType\": 1, \"questionType\": 2, \"questionId\": \"2_SelectPredictionData\", \"learnToolsVersion\": \"0.3.4\", \"failureMessage\": \"\", \"exceptionClass\": \"\", \"trace\": \"\"}}, \"*\")"
      ],
      "text/plain": [
       "<IPython.core.display.Javascript object>"
      ]
     },
     "metadata": {},
     "output_type": "display_data"
    },
    {
     "data": {
      "text/markdown": [
       "<span style=\"color:#33cc33\">Correct</span>"
      ],
      "text/plain": [
       "Correct"
      ]
     },
     "metadata": {},
     "output_type": "display_data"
    }
   ],
   "source": [
    "# Create the list of features below\n",
    "feature_names = ['LotArea','YearBuilt','1stFlrSF','2ndFlrSF','FullBath','BedroomAbvGr','TotRmsAbvGrd']\n",
    "\n",
    "# Select data corresponding to features in feature_names\n",
    "X = home_data[feature_names]\n",
    "\n",
    "# Check your answer\n",
    "step_2.check()"
   ]
  },
  {
   "cell_type": "code",
   "execution_count": 6,
   "id": "fbc4bb4d",
   "metadata": {
    "collapsed": true,
    "execution": {
     "iopub.execute_input": "2022-06-29T11:45:06.984969Z",
     "iopub.status.busy": "2022-06-29T11:45:06.984242Z",
     "iopub.status.idle": "2022-06-29T11:45:06.988128Z",
     "shell.execute_reply": "2022-06-29T11:45:06.987245Z"
    },
    "jupyter": {
     "outputs_hidden": true
    },
    "papermill": {
     "duration": 0.01217,
     "end_time": "2022-06-29T11:45:06.990210",
     "exception": false,
     "start_time": "2022-06-29T11:45:06.978040",
     "status": "completed"
    },
    "tags": []
   },
   "outputs": [],
   "source": [
    "# step_2.hint()\n",
    "# step_2.solution()"
   ]
  },
  {
   "cell_type": "markdown",
   "id": "ac9d0cca",
   "metadata": {
    "papermill": {
     "duration": 0.004535,
     "end_time": "2022-06-29T11:45:06.999946",
     "exception": false,
     "start_time": "2022-06-29T11:45:06.995411",
     "status": "completed"
    },
    "tags": []
   },
   "source": [
    "## Review Data\n",
    "Before building a model, take a quick look at **X** to verify it looks sensible"
   ]
  },
  {
   "cell_type": "code",
   "execution_count": 7,
   "id": "22fed813",
   "metadata": {
    "execution": {
     "iopub.execute_input": "2022-06-29T11:45:07.012503Z",
     "iopub.status.busy": "2022-06-29T11:45:07.011736Z",
     "iopub.status.idle": "2022-06-29T11:45:07.045649Z",
     "shell.execute_reply": "2022-06-29T11:45:07.044243Z"
    },
    "papermill": {
     "duration": 0.043087,
     "end_time": "2022-06-29T11:45:07.048253",
     "exception": false,
     "start_time": "2022-06-29T11:45:07.005166",
     "status": "completed"
    },
    "tags": []
   },
   "outputs": [
    {
     "name": "stdout",
     "output_type": "stream",
     "text": [
      "             LotArea    YearBuilt     1stFlrSF     2ndFlrSF     FullBath  \\\n",
      "count    1460.000000  1460.000000  1460.000000  1460.000000  1460.000000   \n",
      "mean    10516.828082  1971.267808  1162.626712   346.992466     1.565068   \n",
      "std      9981.264932    30.202904   386.587738   436.528436     0.550916   \n",
      "min      1300.000000  1872.000000   334.000000     0.000000     0.000000   \n",
      "25%      7553.500000  1954.000000   882.000000     0.000000     1.000000   \n",
      "50%      9478.500000  1973.000000  1087.000000     0.000000     2.000000   \n",
      "75%     11601.500000  2000.000000  1391.250000   728.000000     2.000000   \n",
      "max    215245.000000  2010.000000  4692.000000  2065.000000     3.000000   \n",
      "\n",
      "       BedroomAbvGr  TotRmsAbvGrd  \n",
      "count   1460.000000   1460.000000  \n",
      "mean       2.866438      6.517808  \n",
      "std        0.815778      1.625393  \n",
      "min        0.000000      2.000000  \n",
      "25%        2.000000      5.000000  \n",
      "50%        3.000000      6.000000  \n",
      "75%        3.000000      7.000000  \n",
      "max        8.000000     14.000000  \n",
      "   LotArea  YearBuilt  1stFlrSF  2ndFlrSF  FullBath  BedroomAbvGr  \\\n",
      "0     8450       2003       856       854         2             3   \n",
      "1     9600       1976      1262         0         2             3   \n",
      "2    11250       2001       920       866         2             3   \n",
      "3     9550       1915       961       756         1             3   \n",
      "4    14260       2000      1145      1053         2             4   \n",
      "\n",
      "   TotRmsAbvGrd  \n",
      "0             8  \n",
      "1             6  \n",
      "2             6  \n",
      "3             7  \n",
      "4             9  \n"
     ]
    }
   ],
   "source": [
    "# Review data\n",
    "# print description or statistics from X\n",
    "print(X.describe())\n",
    "\n",
    "# print the top few lines\n",
    "print(X.head())"
   ]
  },
  {
   "cell_type": "markdown",
   "id": "c8124d53",
   "metadata": {
    "papermill": {
     "duration": 0.005133,
     "end_time": "2022-06-29T11:45:07.058506",
     "exception": false,
     "start_time": "2022-06-29T11:45:07.053373",
     "status": "completed"
    },
    "tags": []
   },
   "source": [
    "## Step 3: Specify and Fit Model\n",
    "Create a `DecisionTreeRegressor` and save it iowa_model. Ensure you've done the relevant import from sklearn to run this command.\n",
    "\n",
    "Then fit the model you just created using the data in `X` and `y` that you saved above."
   ]
  },
  {
   "cell_type": "code",
   "execution_count": 8,
   "id": "78198fb1",
   "metadata": {
    "execution": {
     "iopub.execute_input": "2022-06-29T11:45:07.070502Z",
     "iopub.status.busy": "2022-06-29T11:45:07.069507Z",
     "iopub.status.idle": "2022-06-29T11:45:07.087459Z",
     "shell.execute_reply": "2022-06-29T11:45:07.086503Z"
    },
    "papermill": {
     "duration": 0.025993,
     "end_time": "2022-06-29T11:45:07.089441",
     "exception": false,
     "start_time": "2022-06-29T11:45:07.063448",
     "status": "completed"
    },
    "tags": []
   },
   "outputs": [
    {
     "data": {
      "application/javascript": [
       "parent.postMessage({\"jupyterEvent\": \"custom.exercise_interaction\", \"data\": {\"outcomeType\": 1, \"valueTowardsCompletion\": 0.25, \"interactionType\": 1, \"questionType\": 2, \"questionId\": \"3_CreateModel\", \"learnToolsVersion\": \"0.3.4\", \"failureMessage\": \"\", \"exceptionClass\": \"\", \"trace\": \"\"}}, \"*\")"
      ],
      "text/plain": [
       "<IPython.core.display.Javascript object>"
      ]
     },
     "metadata": {},
     "output_type": "display_data"
    },
    {
     "data": {
      "text/markdown": [
       "<span style=\"color:#33cc33\">Correct</span>"
      ],
      "text/plain": [
       "Correct"
      ]
     },
     "metadata": {},
     "output_type": "display_data"
    }
   ],
   "source": [
    "from sklearn.tree import DecisionTreeRegressor\n",
    "#specify the model. \n",
    "#For model reproducibility, set a numeric value for random_state when specifying the model\n",
    "iowa_model = DecisionTreeRegressor(random_state=42)\n",
    "\n",
    "# Fit the model\n",
    "iowa_model.fit(X,y)\n",
    "\n",
    "# Check your answer\n",
    "step_3.check()"
   ]
  },
  {
   "cell_type": "code",
   "execution_count": 9,
   "id": "bfe6a9bb",
   "metadata": {
    "collapsed": true,
    "execution": {
     "iopub.execute_input": "2022-06-29T11:45:07.102486Z",
     "iopub.status.busy": "2022-06-29T11:45:07.101896Z",
     "iopub.status.idle": "2022-06-29T11:45:07.105263Z",
     "shell.execute_reply": "2022-06-29T11:45:07.104528Z"
    },
    "jupyter": {
     "outputs_hidden": true
    },
    "papermill": {
     "duration": 0.011791,
     "end_time": "2022-06-29T11:45:07.107165",
     "exception": false,
     "start_time": "2022-06-29T11:45:07.095374",
     "status": "completed"
    },
    "tags": []
   },
   "outputs": [],
   "source": [
    "# step_3.hint()\n",
    "# step_3.solution()"
   ]
  },
  {
   "cell_type": "markdown",
   "id": "da6d8dd6",
   "metadata": {
    "papermill": {
     "duration": 0.004785,
     "end_time": "2022-06-29T11:45:07.117024",
     "exception": false,
     "start_time": "2022-06-29T11:45:07.112239",
     "status": "completed"
    },
    "tags": []
   },
   "source": [
    "## Step 4: Make Predictions\n",
    "Make predictions with the model's `predict` command using `X` as the data. Save the results to a variable called `predictions`."
   ]
  },
  {
   "cell_type": "code",
   "execution_count": 10,
   "id": "465edfbc",
   "metadata": {
    "execution": {
     "iopub.execute_input": "2022-06-29T11:45:07.129899Z",
     "iopub.status.busy": "2022-06-29T11:45:07.129044Z",
     "iopub.status.idle": "2022-06-29T11:45:07.145565Z",
     "shell.execute_reply": "2022-06-29T11:45:07.144219Z"
    },
    "papermill": {
     "duration": 0.024641,
     "end_time": "2022-06-29T11:45:07.147576",
     "exception": false,
     "start_time": "2022-06-29T11:45:07.122935",
     "status": "completed"
    },
    "tags": []
   },
   "outputs": [
    {
     "name": "stdout",
     "output_type": "stream",
     "text": [
      "[208500. 181500. 223500. ... 266500. 142125. 147500.]\n"
     ]
    },
    {
     "data": {
      "application/javascript": [
       "parent.postMessage({\"jupyterEvent\": \"custom.exercise_interaction\", \"data\": {\"outcomeType\": 1, \"valueTowardsCompletion\": 0.25, \"interactionType\": 1, \"questionType\": 2, \"questionId\": \"4_MakePredictions\", \"learnToolsVersion\": \"0.3.4\", \"failureMessage\": \"\", \"exceptionClass\": \"\", \"trace\": \"\"}}, \"*\")"
      ],
      "text/plain": [
       "<IPython.core.display.Javascript object>"
      ]
     },
     "metadata": {},
     "output_type": "display_data"
    },
    {
     "data": {
      "text/markdown": [
       "<span style=\"color:#33cc33\">Correct</span>"
      ],
      "text/plain": [
       "Correct"
      ]
     },
     "metadata": {},
     "output_type": "display_data"
    },
    {
     "name": "stdout",
     "output_type": "stream",
     "text": [
      "0       208500\n",
      "1       181500\n",
      "2       223500\n",
      "3       140000\n",
      "4       250000\n",
      "         ...  \n",
      "1455    175000\n",
      "1456    210000\n",
      "1457    266500\n",
      "1458    142125\n",
      "1459    147500\n",
      "Name: SalePrice, Length: 1460, dtype: int64\n"
     ]
    }
   ],
   "source": [
    "predictions =iowa_model.predict(X)\n",
    "print(predictions)\n",
    "\n",
    "# Check your answer\n",
    "step_4.check()\n",
    "print(home_data.SalePrice)"
   ]
  },
  {
   "cell_type": "code",
   "execution_count": 11,
   "id": "e945ddcd",
   "metadata": {
    "collapsed": true,
    "execution": {
     "iopub.execute_input": "2022-06-29T11:45:07.160594Z",
     "iopub.status.busy": "2022-06-29T11:45:07.159982Z",
     "iopub.status.idle": "2022-06-29T11:45:07.163661Z",
     "shell.execute_reply": "2022-06-29T11:45:07.162628Z"
    },
    "jupyter": {
     "outputs_hidden": true
    },
    "papermill": {
     "duration": 0.012839,
     "end_time": "2022-06-29T11:45:07.165797",
     "exception": false,
     "start_time": "2022-06-29T11:45:07.152958",
     "status": "completed"
    },
    "tags": []
   },
   "outputs": [],
   "source": [
    "# step_4.hint()\n",
    "# step_4.solution()"
   ]
  },
  {
   "cell_type": "markdown",
   "id": "38d3bc43",
   "metadata": {
    "papermill": {
     "duration": 0.005847,
     "end_time": "2022-06-29T11:45:07.177471",
     "exception": false,
     "start_time": "2022-06-29T11:45:07.171624",
     "status": "completed"
    },
    "tags": []
   },
   "source": [
    "## Think About Your Results\n",
    "\n",
    "Use the `head` method to compare the top few predictions to the actual home values (in `y`) for those same homes. Anything surprising?\n"
   ]
  },
  {
   "cell_type": "code",
   "execution_count": 12,
   "id": "f6e58421",
   "metadata": {
    "execution": {
     "iopub.execute_input": "2022-06-29T11:45:07.190260Z",
     "iopub.status.busy": "2022-06-29T11:45:07.189833Z",
     "iopub.status.idle": "2022-06-29T11:45:07.193780Z",
     "shell.execute_reply": "2022-06-29T11:45:07.192975Z"
    },
    "papermill": {
     "duration": 0.012984,
     "end_time": "2022-06-29T11:45:07.196056",
     "exception": false,
     "start_time": "2022-06-29T11:45:07.183072",
     "status": "completed"
    },
    "tags": []
   },
   "outputs": [],
   "source": [
    "# You can write code in this cell\n"
   ]
  },
  {
   "cell_type": "markdown",
   "id": "88d425b0",
   "metadata": {
    "papermill": {
     "duration": 0.005703,
     "end_time": "2022-06-29T11:45:07.207466",
     "exception": false,
     "start_time": "2022-06-29T11:45:07.201763",
     "status": "completed"
    },
    "tags": []
   },
   "source": [
    "It's natural to ask how accurate the model's predictions will be and how you can improve that. That will be you're next step.\n",
    "\n",
    "# Keep Going\n",
    "\n",
    "You are ready for **[Model Validation](https://www.kaggle.com/dansbecker/model-validation).**\n"
   ]
  },
  {
   "cell_type": "markdown",
   "id": "48f4f997",
   "metadata": {
    "papermill": {
     "duration": 0.005365,
     "end_time": "2022-06-29T11:45:07.218786",
     "exception": false,
     "start_time": "2022-06-29T11:45:07.213421",
     "status": "completed"
    },
    "tags": []
   },
   "source": [
    "---\n",
    "\n",
    "\n",
    "\n",
    "\n",
    "*Have questions or comments? Visit the [course discussion forum](https://www.kaggle.com/learn/intro-to-machine-learning/discussion) to chat with other learners.*"
   ]
  }
 ],
 "metadata": {
  "kernelspec": {
   "display_name": "Python 3",
   "language": "python",
   "name": "python3"
  },
  "language_info": {
   "codemirror_mode": {
    "name": "ipython",
    "version": 3
   },
   "file_extension": ".py",
   "mimetype": "text/x-python",
   "name": "python",
   "nbconvert_exporter": "python",
   "pygments_lexer": "ipython3",
   "version": "3.7.12"
  },
  "papermill": {
   "default_parameters": {},
   "duration": 11.040432,
   "end_time": "2022-06-29T11:45:07.944968",
   "environment_variables": {},
   "exception": null,
   "input_path": "__notebook__.ipynb",
   "output_path": "__notebook__.ipynb",
   "parameters": {},
   "start_time": "2022-06-29T11:44:56.904536",
   "version": "2.3.4"
  }
 },
 "nbformat": 4,
 "nbformat_minor": 5
}
